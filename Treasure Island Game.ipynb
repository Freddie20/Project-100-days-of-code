{
 "cells": [
  {
   "cell_type": "code",
   "execution_count": 10,
   "id": "a4aa9df4",
   "metadata": {},
   "outputs": [
    {
     "name": "stdout",
     "output_type": "stream",
     "text": [
      "\n",
      "*******************************************************************************\n",
      "          |                   |                  |                     |\n",
      " _________|________________.=\"\"_;=.______________|_____________________|_______\n",
      "|                   |  ,-\"_,=\"\"     `\"=.|                  |\n",
      "|___________________|__\"=._o`\"-._        `\"=.______________|___________________\n",
      "          |                `\"=._o`\"=._      _`\"=._                     |\n",
      " _________|_____________________:=._o \"=._.\"_.-=\"'\"=.__________________|_______\n",
      "|                   |    __.--\" , ; `\"=._o.\" ,-\"\"\"-._ \".   |\n",
      "|___________________|_._\"  ,. .` ` `` ,  `\"-._\"-._   \". '__|___________________\n",
      "          |           |o`\"=._` , \"` `; .\". ,  \"-._\"-._; ;              |\n",
      " _________|___________| ;`-.o`\"=._; .\" ` '`.\"\\` . \"-._ /_______________|_______\n",
      "|                   | |o;    `\"-.o`\"=._``  '` \" ,__.--o;   |\n",
      "|___________________|_| ;     (#) `-.o `\"=.`_.--\"_o.-; ;___|___________________\n",
      "____/______/______/___|o;._    \"      `\".o|o_.--\"    ;o;____/______/______/____\n",
      "/______/______/______/_\"=._o--._        ; | ;        ; ;/______/______/______/_\n",
      "____/______/______/______/__\"=._o--._   ;o|o;     _._;o;____/______/______/____\n",
      "/______/______/______/______/____\"=._o._; | ;_.--\"o.--\"_/______/______/______/_\n",
      "____/______/______/______/______/_____\"=.o|o_.--\"\"___/______/______/______/____\n",
      "/______/______/______/______/______/______/______/______/______/______/_____ /\n",
      "*******************************************************************************\n",
      "\n",
      "Welcome to 9ja🇳🇬 Treasure Island. \n",
      "Your mission na to find the treasure!\n",
      "You are at a roundabout. Where do you want to go? Type \"left\" or \"right\" \n",
      "left\n",
      "You get to a canal, from the canal you can see land not far ahead. Type \"wait\" to wait for a boat or type \"swim\" to swim to land \n",
      "wait\n",
      "Your waiting paid off! A canoe came and you arrive at land with no issues. There is a house with 3 doors. One green, one blue and one yellow. Which colour do you choose? \n",
      "pink\n",
      "Goat! you choose colour wey no dey there. Game Over 🤪\n"
     ]
    }
   ],
   "source": [
    "print('''\n",
    "*******************************************************************************\n",
    "          |                   |                  |                     |\n",
    " _________|________________.=\"\"_;=.______________|_____________________|_______\n",
    "|                   |  ,-\"_,=\"\"     `\"=.|                  |\n",
    "|___________________|__\"=._o`\"-._        `\"=.______________|___________________\n",
    "          |                `\"=._o`\"=._      _`\"=._                     |\n",
    " _________|_____________________:=._o \"=._.\"_.-=\"'\"=.__________________|_______\n",
    "|                   |    __.--\" , ; `\"=._o.\" ,-\"\"\"-._ \".   |\n",
    "|___________________|_._\"  ,. .` ` `` ,  `\"-._\"-._   \". '__|___________________\n",
    "          |           |o`\"=._` , \"` `; .\". ,  \"-._\"-._; ;              |\n",
    " _________|___________| ;`-.o`\"=._; .\" ` '`.\"\\` . \"-._ /_______________|_______\n",
    "|                   | |o;    `\"-.o`\"=._``  '` \" ,__.--o;   |\n",
    "|___________________|_| ;     (#) `-.o `\"=.`_.--\"_o.-; ;___|___________________\n",
    "____/______/______/___|o;._    \"      `\".o|o_.--\"    ;o;____/______/______/____\n",
    "/______/______/______/_\"=._o--._        ; | ;        ; ;/______/______/______/_\n",
    "____/______/______/______/__\"=._o--._   ;o|o;     _._;o;____/______/______/____\n",
    "/______/______/______/______/____\"=._o._; | ;_.--\"o.--\"_/______/______/______/_\n",
    "____/______/______/______/______/_____\"=.o|o_.--\"\"___/______/______/______/____\n",
    "/______/______/______/______/______/______/______/______/______/______/_____ /\n",
    "*******************************************************************************\n",
    "''')\n",
    "print(\"Welcome to 9ja🇳🇬 Treasure Island. \")\n",
    "print(\"Your mission na to find the treasure!\") \n",
    "choice_1 = input('You are at a roundabout. Where do you want to go? Type \"left\" or \"right\" \\n').lower()\n",
    "if choice_1 == \"left\":\n",
    "    choice_2 = input('You get to a canal, from the canal you can see land not far ahead. Type \"wait\" to wait for a boat or type \"swim\" to swim to land \\n').lower()\n",
    "    if choice_2 == \"wait\":\n",
    "        choice_3 = input(\"Your waiting paid off! A canoe came and you arrive at land with no issues. There is a house with 3 doors. One green, one blue and one yellow. Which colour do you choose? \\n\").lower()\n",
    "        if choice_3 == \"green\":\n",
    "            print(\"You still dey choose 9ja colour! Na wa for you o. Game Over 😪!!\")\n",
    "        elif choice_3 == \"blue\":\n",
    "            print(\"This one be Chelsea Fan! Game Over 😪!!\")\n",
    "        elif choice_3 == \"yellow\":\n",
    "            print(\"Against all odds, You found the treasure 🙌🏾, You Win!!! 🏆\")\n",
    "        else:\n",
    "            print(\"Goat! you choose colour wey no dey there. Game Over 🤪\")\n",
    "    else:\n",
    "        print(\"You dey swim for Nigeria water, you get mind o! The water too dirty 🏊🏾 Nigeria don get you! Game Over 😪!!\")\n",
    "else:\n",
    "    print(\"Why you go take right, building collapse for there! Nigeria don get you! Game Over 😪!!\")"
   ]
  },
  {
   "cell_type": "code",
   "execution_count": null,
   "id": "d5ba6789",
   "metadata": {},
   "outputs": [],
   "source": []
  },
  {
   "cell_type": "code",
   "execution_count": null,
   "id": "d228a2fa",
   "metadata": {},
   "outputs": [],
   "source": []
  }
 ],
 "metadata": {
  "kernelspec": {
   "display_name": "Python 3 (ipykernel)",
   "language": "python",
   "name": "python3"
  },
  "language_info": {
   "codemirror_mode": {
    "name": "ipython",
    "version": 3
   },
   "file_extension": ".py",
   "mimetype": "text/x-python",
   "name": "python",
   "nbconvert_exporter": "python",
   "pygments_lexer": "ipython3",
   "version": "3.9.7"
  }
 },
 "nbformat": 4,
 "nbformat_minor": 5
}
