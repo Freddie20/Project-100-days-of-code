{
 "cells": [
  {
   "cell_type": "code",
   "execution_count": 1,
   "id": "227a8509",
   "metadata": {},
   "outputs": [],
   "source": [
    "rock = '''\n",
    "    _______\n",
    "---'   ____)\n",
    "      (_____)\n",
    "      (_____)\n",
    "      (____)\n",
    "---.__(___)\n",
    "'''\n",
    "\n",
    "paper = '''\n",
    "    _______\n",
    "---'   ____)____\n",
    "          ______)\n",
    "          _______)\n",
    "         _______)\n",
    "---.__________)\n",
    "'''\n",
    "\n",
    "scissors = '''\n",
    "    _______\n",
    "---'   ____)____\n",
    "          ______)\n",
    "       __________)\n",
    "      (____)\n",
    "---.__(___)\n",
    "'''\n"
   ]
  },
  {
   "cell_type": "code",
   "execution_count": 4,
   "id": "2426608e",
   "metadata": {},
   "outputs": [],
   "source": [
    "import random\n",
    "import pandas as pd"
   ]
  },
  {
   "cell_type": "code",
   "execution_count": 22,
   "id": "7453f020",
   "metadata": {},
   "outputs": [
    {
     "name": "stdout",
     "output_type": "stream",
     "text": [
      "What do you choose? Type 0 for Rock, 1 for Paper or 2 for Scissors. \n",
      "5\n",
      "You typed an invalid number, You lose\n"
     ]
    }
   ],
   "source": [
    "my_choice = int(input(\"What do you choose? Type 0 for Rock, 1 for Paper or 2 for Scissors. \\n\"))\n",
    "computer_choice = random.randint(0,2)\n",
    "if computer_choice == 0 and my_choice == 0:\n",
    "    print('Computer chose', rock)\n",
    "    print('You chose', rock)\n",
    "    print('This is a draw.')\n",
    "elif computer_choice == 0 and my_choice == 2:\n",
    "    print('Computer chose', rock)\n",
    "    print('You chose', scissors)\n",
    "    print('Computer Wins! 😪')\n",
    "elif computer_choice == 0 and my_choice == 1:\n",
    "    print('Computer chose', rock)\n",
    "    print('You chose', paper)\n",
    "    print('You Win! 🏆')\n",
    "elif computer_choice == 1 and my_choice == 1:\n",
    "    print('Computer chose', paper)\n",
    "    print('You chose', paper)\n",
    "    print('This is a draw.')\n",
    "elif computer_choice == 1 and my_choice == 0:\n",
    "    print('Computer chose', paper)\n",
    "    print('You chose', rock)\n",
    "    print('Computer Wins! 😪')\n",
    "elif computer_choice == 1 and my_choice == 2:\n",
    "    print('Computer chose', paper)\n",
    "    print('You chose', scissors)\n",
    "    print('You Win! 🏆')\n",
    "elif computer_choice == 2 and my_choice == 2:\n",
    "    print('Computer chose', scissors)\n",
    "    print('You chose', scissors)\n",
    "    print('This is a draw.')\n",
    "elif computer_choice == 2 and my_choice == 0:\n",
    "    print('Computer chose', scissors)\n",
    "    print('You chose', rock)\n",
    "    print('You Win! 🏆')\n",
    "elif computer_choice == 2 and my_choice == 1:\n",
    "    print('Computer chose', scissors)\n",
    "    print('You chose', paper)\n",
    "    print('Computer Wins! 😪') \n",
    "else:\n",
    "    print('You typed an invalid number, You lose')"
   ]
  },
  {
   "cell_type": "code",
   "execution_count": null,
   "id": "9b904fac",
   "metadata": {},
   "outputs": [],
   "source": []
  },
  {
   "cell_type": "code",
   "execution_count": null,
   "id": "2175d7e0",
   "metadata": {},
   "outputs": [],
   "source": []
  }
 ],
 "metadata": {
  "kernelspec": {
   "display_name": "Python 3 (ipykernel)",
   "language": "python",
   "name": "python3"
  },
  "language_info": {
   "codemirror_mode": {
    "name": "ipython",
    "version": 3
   },
   "file_extension": ".py",
   "mimetype": "text/x-python",
   "name": "python",
   "nbconvert_exporter": "python",
   "pygments_lexer": "ipython3",
   "version": "3.9.7"
  }
 },
 "nbformat": 4,
 "nbformat_minor": 5
}
